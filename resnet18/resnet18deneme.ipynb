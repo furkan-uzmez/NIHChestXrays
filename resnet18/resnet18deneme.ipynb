{
 "cells": [
  {
   "cell_type": "code",
   "execution_count": 1,
   "id": "850188c9",
   "metadata": {},
   "outputs": [],
   "source": [
    "import torch\n",
    "from torch.utils.data import DataLoader\n",
    "from torch import nn\n",
    "import torch.optim as optim\n",
    "import torchvision.models as models\n",
    "from dataset import ChestXrayDataset\n",
    "from train import train\n",
    "from evaluation import plot_results ,eval_on_metrics"
   ]
  },
  {
   "cell_type": "code",
   "execution_count": 2,
   "id": "e2887e98",
   "metadata": {},
   "outputs": [
    {
     "name": "stdout",
     "output_type": "stream",
     "text": [
      "Toplam 112120 resim bulundu.\n"
     ]
    }
   ],
   "source": [
    "IMAGE_PATH = \"../archive/\"\n",
    "import glob\n",
    "\n",
    "# Tüm alt klasörlerdeki jpg ve png dosyalarını alalım\n",
    "image_paths = glob.glob(IMAGE_PATH + \"**/images/*.[jp][pn]g\", recursive=True)\n",
    "\n",
    "print(f\"Toplam {len(image_paths)} resim bulundu.\")"
   ]
  },
  {
   "cell_type": "code",
   "execution_count": 3,
   "id": "a3bf6ab8",
   "metadata": {},
   "outputs": [],
   "source": [
    "TRAIN_PATH = 'data/AP_PA_Train.xlsx'\n",
    "TEST_PATH = 'data/AP_PA_Test.xlsx'\n",
    "VAL_PATH = 'data/AP_PA_Validation.xlsx'"
   ]
  },
  {
   "cell_type": "code",
   "execution_count": 4,
   "id": "28ba46c0",
   "metadata": {},
   "outputs": [],
   "source": [
    "num_classes = 2\n",
    "EPOCHS = 100"
   ]
  },
  {
   "cell_type": "code",
   "execution_count": 5,
   "id": "ec663685",
   "metadata": {},
   "outputs": [
    {
     "name": "stderr",
     "output_type": "stream",
     "text": [
      "c:\\Users\\Furkan-PC\\192.168.0.14+8000\\.venv\\Lib\\site-packages\\torchvision\\models\\_utils.py:208: UserWarning: The parameter 'pretrained' is deprecated since 0.13 and may be removed in the future, please use 'weights' instead.\n",
      "  warnings.warn(\n",
      "c:\\Users\\Furkan-PC\\192.168.0.14+8000\\.venv\\Lib\\site-packages\\torchvision\\models\\_utils.py:223: UserWarning: Arguments other than a weight enum or `None` for 'weights' are deprecated since 0.13 and may be removed in the future. The current behavior is equivalent to passing `weights=ResNet18_Weights.IMAGENET1K_V1`. You can also use `weights=ResNet18_Weights.DEFAULT` to get the most up-to-date weights.\n",
      "  warnings.warn(msg)\n"
     ]
    }
   ],
   "source": [
    "model = models.resnet18(pretrained=True)\n",
    "\n",
    "for param in model.parameters():\n",
    "    param.requires_grad = False\n",
    "\n",
    "in_features = model.fc.in_features\n",
    "model.fc = nn.Linear(in_features, num_classes)\n",
    "\n",
    "for param in model.fc.parameters():\n",
    "    param.requires_grad = True"
   ]
  },
  {
   "cell_type": "code",
   "execution_count": 6,
   "id": "8dfbe7c6",
   "metadata": {},
   "outputs": [
    {
     "name": "stdout",
     "output_type": "stream",
     "text": [
      "cuda\n"
     ]
    }
   ],
   "source": [
    "device = torch.device(\"cuda\" if torch.cuda.is_available() else \"cpu\")\n",
    "criterion = nn.CrossEntropyLoss()\n",
    "optimizer = optim.Adam(model.parameters(), lr=0.001)\n",
    "print(device)"
   ]
  },
  {
   "cell_type": "code",
   "execution_count": 7,
   "id": "414a30e6",
   "metadata": {},
   "outputs": [],
   "source": [
    "from torchvision import transforms\n",
    "\n",
    "transform = transforms.Compose([\n",
    "    transforms.Resize((224, 224)),\n",
    "    transforms.ToTensor(),\n",
    "    transforms.Normalize(mean=[0.485, 0.456, 0.406],\n",
    "                         std=[0.229, 0.224, 0.225])\n",
    "])\n"
   ]
  },
  {
   "cell_type": "code",
   "execution_count": 8,
   "id": "0b556a81",
   "metadata": {},
   "outputs": [],
   "source": [
    "train_dataset = ChestXrayDataset(TRAIN_PATH, image_paths,transform=transform)\n",
    "val_dataset = ChestXrayDataset(TEST_PATH,image_paths, transform=transform)\n",
    "test_dataset = ChestXrayDataset(VAL_PATH,image_paths, transform=transform)"
   ]
  },
  {
   "cell_type": "code",
   "execution_count": 9,
   "id": "b0a67572",
   "metadata": {},
   "outputs": [
    {
     "name": "stdout",
     "output_type": "stream",
     "text": [
      "Train size :  78566\n",
      "Validation size :  16491\n",
      "Test size :  17063\n"
     ]
    }
   ],
   "source": [
    "print(\"Train size : \",len(train_dataset))\n",
    "print(\"Validation size : \",len(val_dataset))\n",
    "print(\"Test size : \",len(test_dataset))"
   ]
  },
  {
   "cell_type": "code",
   "execution_count": 10,
   "id": "578f22c2",
   "metadata": {},
   "outputs": [],
   "source": [
    "train_dataloader = DataLoader(train_dataset, batch_size=64, shuffle=True,num_workers=10)\n",
    "val_dataloader = DataLoader(val_dataset, batch_size=64, shuffle=True,num_workers=10)\n",
    "test_dataloader = DataLoader(test_dataset, batch_size=64, shuffle=True,num_workers=10)"
   ]
  },
  {
   "cell_type": "code",
   "execution_count": 11,
   "id": "97969119",
   "metadata": {},
   "outputs": [
    {
     "name": "stderr",
     "output_type": "stream",
     "text": [
      "Epoch 1/100 - Training: 100%|██████████| 1228/1228 [03:58<00:00,  5.15it/s]\n",
      "Epoch 1/100 - Validation: 100%|██████████| 258/258 [01:11<00:00,  3.61it/s]\n"
     ]
    },
    {
     "name": "stdout",
     "output_type": "stream",
     "text": [
      "Epoch [1/100]\n",
      "  Train Loss: 0.1223, Train Acc: 0.9602\n",
      "  Val   Loss: 0.0672, Val   Acc: 0.9808\n",
      "  Best model saved with val_loss: 0.0672\n"
     ]
    },
    {
     "name": "stderr",
     "output_type": "stream",
     "text": [
      "Epoch 2/100 - Training: 100%|██████████| 1228/1228 [03:31<00:00,  5.80it/s]\n",
      "Epoch 2/100 - Validation: 100%|██████████| 258/258 [01:07<00:00,  3.80it/s]\n"
     ]
    },
    {
     "name": "stdout",
     "output_type": "stream",
     "text": [
      "Epoch [2/100]\n",
      "  Train Loss: 0.0702, Train Acc: 0.9783\n",
      "  Val   Loss: 0.0607, Val   Acc: 0.9814\n",
      "  Best model saved with val_loss: 0.0607\n"
     ]
    },
    {
     "name": "stderr",
     "output_type": "stream",
     "text": [
      "Epoch 3/100 - Training: 100%|██████████| 1228/1228 [04:52<00:00,  4.21it/s]\n",
      "Epoch 3/100 - Validation: 100%|██████████| 258/258 [01:09<00:00,  3.72it/s]\n"
     ]
    },
    {
     "name": "stdout",
     "output_type": "stream",
     "text": [
      "Epoch [3/100]\n",
      "  Train Loss: 0.0648, Train Acc: 0.9805\n",
      "  Val   Loss: 0.0567, Val   Acc: 0.9828\n",
      "  Best model saved with val_loss: 0.0567\n"
     ]
    },
    {
     "name": "stderr",
     "output_type": "stream",
     "text": [
      "Epoch 4/100 - Training: 100%|██████████| 1228/1228 [03:28<00:00,  5.88it/s]\n",
      "Epoch 4/100 - Validation: 100%|██████████| 258/258 [01:02<00:00,  4.13it/s]\n"
     ]
    },
    {
     "name": "stdout",
     "output_type": "stream",
     "text": [
      "Epoch [4/100]\n",
      "  Train Loss: 0.0618, Train Acc: 0.9810\n",
      "  Val   Loss: 0.0526, Val   Acc: 0.9847\n",
      "  Best model saved with val_loss: 0.0526\n"
     ]
    },
    {
     "name": "stderr",
     "output_type": "stream",
     "text": [
      "Epoch 5/100 - Training: 100%|██████████| 1228/1228 [03:24<00:00,  6.01it/s]\n",
      "Epoch 5/100 - Validation: 100%|██████████| 258/258 [01:03<00:00,  4.08it/s]\n"
     ]
    },
    {
     "name": "stdout",
     "output_type": "stream",
     "text": [
      "Epoch [5/100]\n",
      "  Train Loss: 0.0593, Train Acc: 0.9820\n",
      "  Val   Loss: 0.0662, Val   Acc: 0.9796\n"
     ]
    },
    {
     "name": "stderr",
     "output_type": "stream",
     "text": [
      "Epoch 6/100 - Training: 100%|██████████| 1228/1228 [03:32<00:00,  5.79it/s]\n",
      "Epoch 6/100 - Validation: 100%|██████████| 258/258 [01:03<00:00,  4.06it/s]\n"
     ]
    },
    {
     "name": "stdout",
     "output_type": "stream",
     "text": [
      "Epoch [6/100]\n",
      "  Train Loss: 0.0591, Train Acc: 0.9818\n",
      "  Val   Loss: 0.0531, Val   Acc: 0.9843\n"
     ]
    },
    {
     "name": "stderr",
     "output_type": "stream",
     "text": [
      "Epoch 7/100 - Training: 100%|██████████| 1228/1228 [03:33<00:00,  5.76it/s]\n",
      "Epoch 7/100 - Validation: 100%|██████████| 258/258 [01:03<00:00,  4.06it/s]\n"
     ]
    },
    {
     "name": "stdout",
     "output_type": "stream",
     "text": [
      "Epoch [7/100]\n",
      "  Train Loss: 0.0587, Train Acc: 0.9821\n",
      "  Val   Loss: 0.0498, Val   Acc: 0.9857\n",
      "  Best model saved with val_loss: 0.0498\n"
     ]
    },
    {
     "name": "stderr",
     "output_type": "stream",
     "text": [
      "Epoch 8/100 - Training: 100%|██████████| 1228/1228 [03:29<00:00,  5.87it/s]\n",
      "Epoch 8/100 - Validation: 100%|██████████| 258/258 [01:03<00:00,  4.04it/s]\n"
     ]
    },
    {
     "name": "stdout",
     "output_type": "stream",
     "text": [
      "Epoch [8/100]\n",
      "  Train Loss: 0.0568, Train Acc: 0.9824\n",
      "  Val   Loss: 0.0628, Val   Acc: 0.9799\n"
     ]
    },
    {
     "name": "stderr",
     "output_type": "stream",
     "text": [
      "Epoch 9/100 - Training: 100%|██████████| 1228/1228 [03:29<00:00,  5.86it/s]\n",
      "Epoch 9/100 - Validation: 100%|██████████| 258/258 [01:03<00:00,  4.09it/s]\n"
     ]
    },
    {
     "name": "stdout",
     "output_type": "stream",
     "text": [
      "Epoch [9/100]\n",
      "  Train Loss: 0.0565, Train Acc: 0.9830\n",
      "  Val   Loss: 0.0521, Val   Acc: 0.9849\n"
     ]
    },
    {
     "name": "stderr",
     "output_type": "stream",
     "text": [
      "Epoch 10/100 - Training: 100%|██████████| 1228/1228 [03:24<00:00,  5.99it/s]\n",
      "Epoch 10/100 - Validation: 100%|██████████| 258/258 [01:02<00:00,  4.12it/s]\n"
     ]
    },
    {
     "name": "stdout",
     "output_type": "stream",
     "text": [
      "Epoch [10/100]\n",
      "  Train Loss: 0.0560, Train Acc: 0.9829\n",
      "  Val   Loss: 0.0484, Val   Acc: 0.9862\n",
      "  Best model saved with val_loss: 0.0484\n"
     ]
    },
    {
     "name": "stderr",
     "output_type": "stream",
     "text": [
      "Epoch 11/100 - Training: 100%|██████████| 1228/1228 [03:23<00:00,  6.02it/s]\n",
      "Epoch 11/100 - Validation: 100%|██████████| 258/258 [01:02<00:00,  4.15it/s]\n"
     ]
    },
    {
     "name": "stdout",
     "output_type": "stream",
     "text": [
      "Epoch [11/100]\n",
      "  Train Loss: 0.0566, Train Acc: 0.9829\n",
      "  Val   Loss: 0.0500, Val   Acc: 0.9853\n"
     ]
    },
    {
     "name": "stderr",
     "output_type": "stream",
     "text": [
      "Epoch 12/100 - Training: 100%|██████████| 1228/1228 [03:25<00:00,  5.98it/s]\n",
      "Epoch 12/100 - Validation: 100%|██████████| 258/258 [01:02<00:00,  4.12it/s]\n"
     ]
    },
    {
     "name": "stdout",
     "output_type": "stream",
     "text": [
      "Epoch [12/100]\n",
      "  Train Loss: 0.0557, Train Acc: 0.9829\n",
      "  Val   Loss: 0.0486, Val   Acc: 0.9857\n"
     ]
    },
    {
     "name": "stderr",
     "output_type": "stream",
     "text": [
      "Epoch 13/100 - Training: 100%|██████████| 1228/1228 [03:28<00:00,  5.88it/s]\n",
      "Epoch 13/100 - Validation: 100%|██████████| 258/258 [01:02<00:00,  4.10it/s]\n"
     ]
    },
    {
     "name": "stdout",
     "output_type": "stream",
     "text": [
      "Epoch [13/100]\n",
      "  Train Loss: 0.0561, Train Acc: 0.9837\n",
      "  Val   Loss: 0.0483, Val   Acc: 0.9857\n",
      "  Best model saved with val_loss: 0.0483\n"
     ]
    },
    {
     "name": "stderr",
     "output_type": "stream",
     "text": [
      "Epoch 14/100 - Training: 100%|██████████| 1228/1228 [03:30<00:00,  5.83it/s]\n",
      "Epoch 14/100 - Validation: 100%|██████████| 258/258 [01:02<00:00,  4.10it/s]\n"
     ]
    },
    {
     "name": "stdout",
     "output_type": "stream",
     "text": [
      "Epoch [14/100]\n",
      "  Train Loss: 0.0552, Train Acc: 0.9832\n",
      "  Val   Loss: 0.0501, Val   Acc: 0.9853\n"
     ]
    },
    {
     "name": "stderr",
     "output_type": "stream",
     "text": [
      "Epoch 15/100 - Training: 100%|██████████| 1228/1228 [03:26<00:00,  5.94it/s]\n",
      "Epoch 15/100 - Validation: 100%|██████████| 258/258 [01:02<00:00,  4.13it/s]\n"
     ]
    },
    {
     "name": "stdout",
     "output_type": "stream",
     "text": [
      "Epoch [15/100]\n",
      "  Train Loss: 0.0555, Train Acc: 0.9834\n",
      "  Val   Loss: 0.0563, Val   Acc: 0.9830\n"
     ]
    },
    {
     "name": "stderr",
     "output_type": "stream",
     "text": [
      "Epoch 16/100 - Training: 100%|██████████| 1228/1228 [03:27<00:00,  5.93it/s]\n",
      "Epoch 16/100 - Validation: 100%|██████████| 258/258 [01:02<00:00,  4.12it/s]\n"
     ]
    },
    {
     "name": "stdout",
     "output_type": "stream",
     "text": [
      "Epoch [16/100]\n",
      "  Train Loss: 0.0556, Train Acc: 0.9833\n",
      "  Val   Loss: 0.0494, Val   Acc: 0.9853\n"
     ]
    },
    {
     "name": "stderr",
     "output_type": "stream",
     "text": [
      "Epoch 17/100 - Training: 100%|██████████| 1228/1228 [03:59<00:00,  5.12it/s]\n",
      "Epoch 17/100 - Validation: 100%|██████████| 258/258 [01:03<00:00,  4.09it/s]\n"
     ]
    },
    {
     "name": "stdout",
     "output_type": "stream",
     "text": [
      "Epoch [17/100]\n",
      "  Train Loss: 0.0540, Train Acc: 0.9835\n",
      "  Val   Loss: 0.0474, Val   Acc: 0.9864\n",
      "  Best model saved with val_loss: 0.0474\n"
     ]
    },
    {
     "name": "stderr",
     "output_type": "stream",
     "text": [
      "Epoch 18/100 - Training: 100%|██████████| 1228/1228 [03:27<00:00,  5.92it/s]\n",
      "Epoch 18/100 - Validation: 100%|██████████| 258/258 [01:02<00:00,  4.14it/s]\n"
     ]
    },
    {
     "name": "stdout",
     "output_type": "stream",
     "text": [
      "Epoch [18/100]\n",
      "  Train Loss: 0.0557, Train Acc: 0.9833\n",
      "  Val   Loss: 0.0480, Val   Acc: 0.9862\n"
     ]
    },
    {
     "name": "stderr",
     "output_type": "stream",
     "text": [
      "Epoch 19/100 - Training: 100%|██████████| 1228/1228 [03:30<00:00,  5.82it/s]\n",
      "Epoch 19/100 - Validation: 100%|██████████| 258/258 [01:02<00:00,  4.11it/s]\n"
     ]
    },
    {
     "name": "stdout",
     "output_type": "stream",
     "text": [
      "Epoch [19/100]\n",
      "  Train Loss: 0.0551, Train Acc: 0.9833\n",
      "  Val   Loss: 0.0533, Val   Acc: 0.9845\n"
     ]
    },
    {
     "name": "stderr",
     "output_type": "stream",
     "text": [
      "Epoch 20/100 - Training: 100%|██████████| 1228/1228 [03:30<00:00,  5.83it/s]\n",
      "Epoch 20/100 - Validation: 100%|██████████| 258/258 [01:10<00:00,  3.67it/s]\n"
     ]
    },
    {
     "name": "stdout",
     "output_type": "stream",
     "text": [
      "Epoch [20/100]\n",
      "  Train Loss: 0.0546, Train Acc: 0.9841\n",
      "  Val   Loss: 0.0530, Val   Acc: 0.9851\n"
     ]
    },
    {
     "name": "stderr",
     "output_type": "stream",
     "text": [
      "Epoch 21/100 - Training: 100%|██████████| 1228/1228 [03:29<00:00,  5.86it/s]\n",
      "Epoch 21/100 - Validation: 100%|██████████| 258/258 [01:03<00:00,  4.09it/s]\n"
     ]
    },
    {
     "name": "stdout",
     "output_type": "stream",
     "text": [
      "Epoch [21/100]\n",
      "  Train Loss: 0.0545, Train Acc: 0.9832\n",
      "  Val   Loss: 0.0501, Val   Acc: 0.9854\n"
     ]
    },
    {
     "name": "stderr",
     "output_type": "stream",
     "text": [
      "Epoch 22/100 - Training: 100%|██████████| 1228/1228 [03:27<00:00,  5.91it/s]\n",
      "Epoch 22/100 - Validation: 100%|██████████| 258/258 [01:02<00:00,  4.14it/s]\n"
     ]
    },
    {
     "name": "stdout",
     "output_type": "stream",
     "text": [
      "Epoch [22/100]\n",
      "  Train Loss: 0.0543, Train Acc: 0.9835\n",
      "  Val   Loss: 0.0479, Val   Acc: 0.9866\n"
     ]
    },
    {
     "name": "stderr",
     "output_type": "stream",
     "text": [
      "Epoch 23/100 - Training: 100%|██████████| 1228/1228 [04:05<00:00,  5.01it/s]\n",
      "Epoch 23/100 - Validation: 100%|██████████| 258/258 [01:02<00:00,  4.13it/s]\n"
     ]
    },
    {
     "name": "stdout",
     "output_type": "stream",
     "text": [
      "Epoch [23/100]\n",
      "  Train Loss: 0.0537, Train Acc: 0.9842\n",
      "  Val   Loss: 0.0495, Val   Acc: 0.9861\n"
     ]
    },
    {
     "name": "stderr",
     "output_type": "stream",
     "text": [
      "Epoch 24/100 - Training: 100%|██████████| 1228/1228 [03:30<00:00,  5.84it/s]\n",
      "Epoch 24/100 - Validation: 100%|██████████| 258/258 [01:02<00:00,  4.10it/s]\n"
     ]
    },
    {
     "name": "stdout",
     "output_type": "stream",
     "text": [
      "Epoch [24/100]\n",
      "  Train Loss: 0.0552, Train Acc: 0.9835\n",
      "  Val   Loss: 0.0492, Val   Acc: 0.9862\n"
     ]
    },
    {
     "name": "stderr",
     "output_type": "stream",
     "text": [
      "Epoch 25/100 - Training: 100%|██████████| 1228/1228 [03:26<00:00,  5.95it/s]\n",
      "Epoch 25/100 - Validation: 100%|██████████| 258/258 [01:03<00:00,  4.09it/s]\n"
     ]
    },
    {
     "name": "stdout",
     "output_type": "stream",
     "text": [
      "Epoch [25/100]\n",
      "  Train Loss: 0.0546, Train Acc: 0.9840\n",
      "  Val   Loss: 0.0523, Val   Acc: 0.9842\n"
     ]
    },
    {
     "name": "stderr",
     "output_type": "stream",
     "text": [
      "Epoch 26/100 - Training: 100%|██████████| 1228/1228 [03:25<00:00,  5.98it/s]\n",
      "Epoch 26/100 - Validation: 100%|██████████| 258/258 [01:02<00:00,  4.11it/s]\n"
     ]
    },
    {
     "name": "stdout",
     "output_type": "stream",
     "text": [
      "Epoch [26/100]\n",
      "  Train Loss: 0.0547, Train Acc: 0.9835\n",
      "  Val   Loss: 0.0480, Val   Acc: 0.9861\n"
     ]
    },
    {
     "name": "stderr",
     "output_type": "stream",
     "text": [
      "Epoch 27/100 - Training: 100%|██████████| 1228/1228 [03:26<00:00,  5.96it/s]\n",
      "Epoch 27/100 - Validation: 100%|██████████| 258/258 [01:02<00:00,  4.14it/s]\n"
     ]
    },
    {
     "name": "stdout",
     "output_type": "stream",
     "text": [
      "Epoch [27/100]\n",
      "  Train Loss: 0.0544, Train Acc: 0.9838\n",
      "  Val   Loss: 0.0484, Val   Acc: 0.9862\n"
     ]
    },
    {
     "name": "stderr",
     "output_type": "stream",
     "text": [
      "Epoch 28/100 - Training: 100%|██████████| 1228/1228 [03:28<00:00,  5.90it/s]\n",
      "Epoch 28/100 - Validation: 100%|██████████| 258/258 [01:02<00:00,  4.13it/s]\n"
     ]
    },
    {
     "name": "stdout",
     "output_type": "stream",
     "text": [
      "Epoch [28/100]\n",
      "  Train Loss: 0.0543, Train Acc: 0.9842\n",
      "  Val   Loss: 0.0485, Val   Acc: 0.9865\n"
     ]
    },
    {
     "name": "stderr",
     "output_type": "stream",
     "text": [
      "Epoch 29/100 - Training: 100%|██████████| 1228/1228 [03:48<00:00,  5.38it/s]\n",
      "Epoch 29/100 - Validation: 100%|██████████| 258/258 [01:07<00:00,  3.80it/s]\n"
     ]
    },
    {
     "name": "stdout",
     "output_type": "stream",
     "text": [
      "Epoch [29/100]\n",
      "  Train Loss: 0.0543, Train Acc: 0.9841\n",
      "  Val   Loss: 0.0486, Val   Acc: 0.9855\n"
     ]
    },
    {
     "name": "stderr",
     "output_type": "stream",
     "text": [
      "Epoch 30/100 - Training: 100%|██████████| 1228/1228 [03:28<00:00,  5.89it/s]\n",
      "Epoch 30/100 - Validation: 100%|██████████| 258/258 [01:02<00:00,  4.12it/s]\n"
     ]
    },
    {
     "name": "stdout",
     "output_type": "stream",
     "text": [
      "Epoch [30/100]\n",
      "  Train Loss: 0.0528, Train Acc: 0.9843\n",
      "  Val   Loss: 0.0495, Val   Acc: 0.9862\n"
     ]
    },
    {
     "name": "stderr",
     "output_type": "stream",
     "text": [
      "Epoch 31/100 - Training: 100%|██████████| 1228/1228 [03:26<00:00,  5.94it/s]\n",
      "Epoch 31/100 - Validation: 100%|██████████| 258/258 [01:02<00:00,  4.10it/s]\n"
     ]
    },
    {
     "name": "stdout",
     "output_type": "stream",
     "text": [
      "Epoch [31/100]\n",
      "  Train Loss: 0.0549, Train Acc: 0.9836\n",
      "  Val   Loss: 0.0654, Val   Acc: 0.9808\n"
     ]
    },
    {
     "name": "stderr",
     "output_type": "stream",
     "text": [
      "Epoch 32/100 - Training: 100%|██████████| 1228/1228 [03:27<00:00,  5.91it/s]\n",
      "Epoch 32/100 - Validation: 100%|██████████| 258/258 [01:02<00:00,  4.13it/s]\n"
     ]
    },
    {
     "name": "stdout",
     "output_type": "stream",
     "text": [
      "Epoch [32/100]\n",
      "  Train Loss: 0.0532, Train Acc: 0.9846\n",
      "  Val   Loss: 0.0482, Val   Acc: 0.9863\n"
     ]
    },
    {
     "name": "stderr",
     "output_type": "stream",
     "text": [
      "Epoch 33/100 - Training: 100%|██████████| 1228/1228 [03:27<00:00,  5.92it/s]\n",
      "Epoch 33/100 - Validation: 100%|██████████| 258/258 [01:02<00:00,  4.12it/s]\n"
     ]
    },
    {
     "name": "stdout",
     "output_type": "stream",
     "text": [
      "Epoch [33/100]\n",
      "  Train Loss: 0.0521, Train Acc: 0.9848\n",
      "  Val   Loss: 0.0486, Val   Acc: 0.9859\n"
     ]
    },
    {
     "name": "stderr",
     "output_type": "stream",
     "text": [
      "Epoch 34/100 - Training: 100%|██████████| 1228/1228 [03:27<00:00,  5.92it/s]\n",
      "Epoch 34/100 - Validation: 100%|██████████| 258/258 [01:02<00:00,  4.13it/s]\n"
     ]
    },
    {
     "name": "stdout",
     "output_type": "stream",
     "text": [
      "Epoch [34/100]\n",
      "  Train Loss: 0.0544, Train Acc: 0.9834\n",
      "  Val   Loss: 0.0585, Val   Acc: 0.9816\n"
     ]
    },
    {
     "name": "stderr",
     "output_type": "stream",
     "text": [
      "Epoch 35/100 - Training: 100%|██████████| 1228/1228 [03:28<00:00,  5.89it/s]\n",
      "Epoch 35/100 - Validation: 100%|██████████| 258/258 [01:02<00:00,  4.12it/s]\n"
     ]
    },
    {
     "name": "stdout",
     "output_type": "stream",
     "text": [
      "Epoch [35/100]\n",
      "  Train Loss: 0.0539, Train Acc: 0.9839\n",
      "  Val   Loss: 0.0488, Val   Acc: 0.9864\n"
     ]
    },
    {
     "name": "stderr",
     "output_type": "stream",
     "text": [
      "Epoch 36/100 - Training: 100%|██████████| 1228/1228 [03:23<00:00,  6.04it/s]\n",
      "Epoch 36/100 - Validation: 100%|██████████| 258/258 [01:02<00:00,  4.13it/s]\n"
     ]
    },
    {
     "name": "stdout",
     "output_type": "stream",
     "text": [
      "Epoch [36/100]\n",
      "  Train Loss: 0.0540, Train Acc: 0.9836\n",
      "  Val   Loss: 0.0481, Val   Acc: 0.9865\n"
     ]
    },
    {
     "name": "stderr",
     "output_type": "stream",
     "text": [
      "Epoch 37/100 - Training: 100%|██████████| 1228/1228 [03:25<00:00,  5.98it/s]\n",
      "Epoch 37/100 - Validation: 100%|██████████| 258/258 [01:11<00:00,  3.60it/s]\n"
     ]
    },
    {
     "name": "stdout",
     "output_type": "stream",
     "text": [
      "Epoch [37/100]\n",
      "  Train Loss: 0.0555, Train Acc: 0.9837\n",
      "  Val   Loss: 0.0547, Val   Acc: 0.9830\n"
     ]
    },
    {
     "name": "stderr",
     "output_type": "stream",
     "text": [
      "Epoch 38/100 - Training: 100%|██████████| 1228/1228 [03:27<00:00,  5.92it/s]\n",
      "Epoch 38/100 - Validation: 100%|██████████| 258/258 [01:03<00:00,  4.08it/s]\n"
     ]
    },
    {
     "name": "stdout",
     "output_type": "stream",
     "text": [
      "Epoch [38/100]\n",
      "  Train Loss: 0.0536, Train Acc: 0.9840\n",
      "  Val   Loss: 0.0498, Val   Acc: 0.9850\n"
     ]
    },
    {
     "name": "stderr",
     "output_type": "stream",
     "text": [
      "Epoch 39/100 - Training: 100%|██████████| 1228/1228 [03:25<00:00,  5.97it/s]\n",
      "Epoch 39/100 - Validation: 100%|██████████| 258/258 [01:03<00:00,  4.08it/s]\n"
     ]
    },
    {
     "name": "stdout",
     "output_type": "stream",
     "text": [
      "Epoch [39/100]\n",
      "  Train Loss: 0.0542, Train Acc: 0.9837\n",
      "  Val   Loss: 0.0613, Val   Acc: 0.9801\n"
     ]
    },
    {
     "name": "stderr",
     "output_type": "stream",
     "text": [
      "Epoch 40/100 - Training: 100%|██████████| 1228/1228 [03:27<00:00,  5.93it/s]\n",
      "Epoch 40/100 - Validation: 100%|██████████| 258/258 [01:02<00:00,  4.13it/s]\n"
     ]
    },
    {
     "name": "stdout",
     "output_type": "stream",
     "text": [
      "Epoch [40/100]\n",
      "  Train Loss: 0.0538, Train Acc: 0.9842\n",
      "  Val   Loss: 0.0564, Val   Acc: 0.9839\n"
     ]
    },
    {
     "name": "stderr",
     "output_type": "stream",
     "text": [
      "Epoch 41/100 - Training: 100%|██████████| 1228/1228 [03:30<00:00,  5.84it/s]\n",
      "Epoch 41/100 - Validation: 100%|██████████| 258/258 [01:11<00:00,  3.60it/s]\n"
     ]
    },
    {
     "name": "stdout",
     "output_type": "stream",
     "text": [
      "Epoch [41/100]\n",
      "  Train Loss: 0.0544, Train Acc: 0.9841\n",
      "  Val   Loss: 0.0567, Val   Acc: 0.9821\n"
     ]
    },
    {
     "name": "stderr",
     "output_type": "stream",
     "text": [
      "Epoch 42/100 - Training: 100%|██████████| 1228/1228 [03:52<00:00,  5.29it/s]\n",
      "Epoch 42/100 - Validation: 100%|██████████| 258/258 [01:02<00:00,  4.12it/s]\n"
     ]
    },
    {
     "name": "stdout",
     "output_type": "stream",
     "text": [
      "Epoch [42/100]\n",
      "  Train Loss: 0.0557, Train Acc: 0.9837\n",
      "  Val   Loss: 0.0547, Val   Acc: 0.9844\n"
     ]
    },
    {
     "name": "stderr",
     "output_type": "stream",
     "text": [
      "Epoch 43/100 - Training: 100%|██████████| 1228/1228 [03:28<00:00,  5.89it/s]\n",
      "Epoch 43/100 - Validation: 100%|██████████| 258/258 [01:02<00:00,  4.13it/s]\n"
     ]
    },
    {
     "name": "stdout",
     "output_type": "stream",
     "text": [
      "Epoch [43/100]\n",
      "  Train Loss: 0.0545, Train Acc: 0.9834\n",
      "  Val   Loss: 0.0502, Val   Acc: 0.9865\n"
     ]
    },
    {
     "name": "stderr",
     "output_type": "stream",
     "text": [
      "Epoch 44/100 - Training: 100%|██████████| 1228/1228 [03:30<00:00,  5.83it/s]\n",
      "Epoch 44/100 - Validation: 100%|██████████| 258/258 [01:02<00:00,  4.13it/s]\n"
     ]
    },
    {
     "name": "stdout",
     "output_type": "stream",
     "text": [
      "Epoch [44/100]\n",
      "  Train Loss: 0.0541, Train Acc: 0.9833\n",
      "  Val   Loss: 0.0488, Val   Acc: 0.9861\n"
     ]
    },
    {
     "name": "stderr",
     "output_type": "stream",
     "text": [
      "Epoch 45/100 - Training: 100%|██████████| 1228/1228 [03:26<00:00,  5.94it/s]\n",
      "Epoch 45/100 - Validation: 100%|██████████| 258/258 [01:02<00:00,  4.16it/s]\n"
     ]
    },
    {
     "name": "stdout",
     "output_type": "stream",
     "text": [
      "Epoch [45/100]\n",
      "  Train Loss: 0.0538, Train Acc: 0.9838\n",
      "  Val   Loss: 0.0502, Val   Acc: 0.9867\n"
     ]
    },
    {
     "name": "stderr",
     "output_type": "stream",
     "text": [
      "Epoch 46/100 - Training: 100%|██████████| 1228/1228 [03:36<00:00,  5.67it/s]\n",
      "Epoch 46/100 - Validation: 100%|██████████| 258/258 [01:10<00:00,  3.63it/s]\n"
     ]
    },
    {
     "name": "stdout",
     "output_type": "stream",
     "text": [
      "Epoch [46/100]\n",
      "  Train Loss: 0.0536, Train Acc: 0.9839\n",
      "  Val   Loss: 0.0571, Val   Acc: 0.9838\n"
     ]
    },
    {
     "name": "stderr",
     "output_type": "stream",
     "text": [
      "Epoch 47/100 - Training: 100%|██████████| 1228/1228 [03:48<00:00,  5.39it/s]\n",
      "Epoch 47/100 - Validation: 100%|██████████| 258/258 [01:02<00:00,  4.10it/s]\n"
     ]
    },
    {
     "name": "stdout",
     "output_type": "stream",
     "text": [
      "Epoch [47/100]\n",
      "  Train Loss: 0.0548, Train Acc: 0.9837\n",
      "  Val   Loss: 0.0492, Val   Acc: 0.9853\n"
     ]
    },
    {
     "name": "stderr",
     "output_type": "stream",
     "text": [
      "Epoch 48/100 - Training: 100%|██████████| 1228/1228 [03:30<00:00,  5.83it/s]\n",
      "Epoch 48/100 - Validation: 100%|██████████| 258/258 [01:03<00:00,  4.09it/s]\n"
     ]
    },
    {
     "name": "stdout",
     "output_type": "stream",
     "text": [
      "Epoch [48/100]\n",
      "  Train Loss: 0.0549, Train Acc: 0.9836\n",
      "  Val   Loss: 0.0518, Val   Acc: 0.9852\n"
     ]
    },
    {
     "name": "stderr",
     "output_type": "stream",
     "text": [
      "Epoch 49/100 - Training: 100%|██████████| 1228/1228 [03:29<00:00,  5.86it/s]\n",
      "Epoch 49/100 - Validation: 100%|██████████| 258/258 [01:12<00:00,  3.57it/s]\n"
     ]
    },
    {
     "name": "stdout",
     "output_type": "stream",
     "text": [
      "Epoch [49/100]\n",
      "  Train Loss: 0.0526, Train Acc: 0.9843\n",
      "  Val   Loss: 0.0557, Val   Acc: 0.9827\n"
     ]
    },
    {
     "name": "stderr",
     "output_type": "stream",
     "text": [
      "Epoch 50/100 - Training: 100%|██████████| 1228/1228 [03:56<00:00,  5.18it/s]\n",
      "Epoch 50/100 - Validation: 100%|██████████| 258/258 [01:07<00:00,  3.84it/s]\n"
     ]
    },
    {
     "name": "stdout",
     "output_type": "stream",
     "text": [
      "Epoch [50/100]\n",
      "  Train Loss: 0.0529, Train Acc: 0.9841\n",
      "  Val   Loss: 0.0489, Val   Acc: 0.9865\n"
     ]
    },
    {
     "name": "stderr",
     "output_type": "stream",
     "text": [
      "Epoch 51/100 - Training: 100%|██████████| 1228/1228 [03:29<00:00,  5.87it/s]\n",
      "Epoch 51/100 - Validation: 100%|██████████| 258/258 [01:03<00:00,  4.07it/s]\n"
     ]
    },
    {
     "name": "stdout",
     "output_type": "stream",
     "text": [
      "Epoch [51/100]\n",
      "  Train Loss: 0.0531, Train Acc: 0.9843\n",
      "  Val   Loss: 0.0492, Val   Acc: 0.9860\n"
     ]
    },
    {
     "name": "stderr",
     "output_type": "stream",
     "text": [
      "Epoch 52/100 - Training: 100%|██████████| 1228/1228 [03:28<00:00,  5.89it/s]\n",
      "Epoch 52/100 - Validation: 100%|██████████| 258/258 [01:02<00:00,  4.10it/s]\n"
     ]
    },
    {
     "name": "stdout",
     "output_type": "stream",
     "text": [
      "Epoch [52/100]\n",
      "  Train Loss: 0.0535, Train Acc: 0.9839\n",
      "  Val   Loss: 0.0491, Val   Acc: 0.9856\n"
     ]
    },
    {
     "name": "stderr",
     "output_type": "stream",
     "text": [
      "Epoch 53/100 - Training: 100%|██████████| 1228/1228 [03:29<00:00,  5.87it/s]\n",
      "Epoch 53/100 - Validation: 100%|██████████| 258/258 [01:02<00:00,  4.16it/s]\n"
     ]
    },
    {
     "name": "stdout",
     "output_type": "stream",
     "text": [
      "Epoch [53/100]\n",
      "  Train Loss: 0.0533, Train Acc: 0.9842\n",
      "  Val   Loss: 0.0497, Val   Acc: 0.9852\n"
     ]
    },
    {
     "name": "stderr",
     "output_type": "stream",
     "text": [
      "Epoch 54/100 - Training: 100%|██████████| 1228/1228 [03:30<00:00,  5.82it/s]\n",
      "Epoch 54/100 - Validation: 100%|██████████| 258/258 [01:02<00:00,  4.11it/s]\n"
     ]
    },
    {
     "name": "stdout",
     "output_type": "stream",
     "text": [
      "Epoch [54/100]\n",
      "  Train Loss: 0.0536, Train Acc: 0.9840\n",
      "  Val   Loss: 0.0493, Val   Acc: 0.9857\n"
     ]
    },
    {
     "name": "stderr",
     "output_type": "stream",
     "text": [
      "Epoch 55/100 - Training: 100%|██████████| 1228/1228 [03:28<00:00,  5.88it/s]\n",
      "Epoch 55/100 - Validation: 100%|██████████| 258/258 [01:02<00:00,  4.11it/s]\n"
     ]
    },
    {
     "name": "stdout",
     "output_type": "stream",
     "text": [
      "Epoch [55/100]\n",
      "  Train Loss: 0.0529, Train Acc: 0.9844\n",
      "  Val   Loss: 0.0502, Val   Acc: 0.9857\n"
     ]
    },
    {
     "name": "stderr",
     "output_type": "stream",
     "text": [
      "Epoch 56/100 - Training: 100%|██████████| 1228/1228 [03:28<00:00,  5.90it/s]\n",
      "Epoch 56/100 - Validation: 100%|██████████| 258/258 [01:02<00:00,  4.10it/s]\n"
     ]
    },
    {
     "name": "stdout",
     "output_type": "stream",
     "text": [
      "Epoch [56/100]\n",
      "  Train Loss: 0.0557, Train Acc: 0.9828\n",
      "  Val   Loss: 0.0540, Val   Acc: 0.9836\n"
     ]
    },
    {
     "name": "stderr",
     "output_type": "stream",
     "text": [
      "Epoch 57/100 - Training: 100%|██████████| 1228/1228 [04:06<00:00,  4.97it/s]\n",
      "Epoch 57/100 - Validation: 100%|██████████| 258/258 [01:02<00:00,  4.11it/s]\n"
     ]
    },
    {
     "name": "stdout",
     "output_type": "stream",
     "text": [
      "Epoch [57/100]\n",
      "  Train Loss: 0.0550, Train Acc: 0.9836\n",
      "  Val   Loss: 0.0505, Val   Acc: 0.9853\n"
     ]
    },
    {
     "name": "stderr",
     "output_type": "stream",
     "text": [
      "Epoch 58/100 - Training: 100%|██████████| 1228/1228 [04:06<00:00,  4.99it/s]\n",
      "Epoch 58/100 - Validation: 100%|██████████| 258/258 [01:11<00:00,  3.60it/s]\n"
     ]
    },
    {
     "name": "stdout",
     "output_type": "stream",
     "text": [
      "Epoch [58/100]\n",
      "  Train Loss: 0.0542, Train Acc: 0.9839\n",
      "  Val   Loss: 0.0524, Val   Acc: 0.9854\n"
     ]
    },
    {
     "name": "stderr",
     "output_type": "stream",
     "text": [
      "Epoch 59/100 - Training: 100%|██████████| 1228/1228 [03:37<00:00,  5.65it/s]\n",
      "Epoch 59/100 - Validation: 100%|██████████| 258/258 [01:02<00:00,  4.14it/s]\n"
     ]
    },
    {
     "name": "stdout",
     "output_type": "stream",
     "text": [
      "Epoch [59/100]\n",
      "  Train Loss: 0.0546, Train Acc: 0.9832\n",
      "  Val   Loss: 0.0506, Val   Acc: 0.9851\n"
     ]
    },
    {
     "name": "stderr",
     "output_type": "stream",
     "text": [
      "Epoch 60/100 - Training: 100%|██████████| 1228/1228 [03:28<00:00,  5.90it/s]\n",
      "Epoch 60/100 - Validation: 100%|██████████| 258/258 [01:02<00:00,  4.11it/s]\n"
     ]
    },
    {
     "name": "stdout",
     "output_type": "stream",
     "text": [
      "Epoch [60/100]\n",
      "  Train Loss: 0.0542, Train Acc: 0.9836\n",
      "  Val   Loss: 0.0488, Val   Acc: 0.9859\n"
     ]
    },
    {
     "name": "stderr",
     "output_type": "stream",
     "text": [
      "Epoch 61/100 - Training: 100%|██████████| 1228/1228 [03:25<00:00,  5.97it/s]\n",
      "Epoch 61/100 - Validation: 100%|██████████| 258/258 [01:02<00:00,  4.13it/s]\n"
     ]
    },
    {
     "name": "stdout",
     "output_type": "stream",
     "text": [
      "Epoch [61/100]\n",
      "  Train Loss: 0.0529, Train Acc: 0.9843\n",
      "  Val   Loss: 0.0494, Val   Acc: 0.9862\n"
     ]
    },
    {
     "name": "stderr",
     "output_type": "stream",
     "text": [
      "Epoch 62/100 - Training: 100%|██████████| 1228/1228 [03:25<00:00,  5.99it/s]\n",
      "Epoch 62/100 - Validation: 100%|██████████| 258/258 [01:02<00:00,  4.11it/s]\n"
     ]
    },
    {
     "name": "stdout",
     "output_type": "stream",
     "text": [
      "Epoch [62/100]\n",
      "  Train Loss: 0.0538, Train Acc: 0.9839\n",
      "  Val   Loss: 0.0543, Val   Acc: 0.9850\n"
     ]
    },
    {
     "name": "stderr",
     "output_type": "stream",
     "text": [
      "Epoch 63/100 - Training: 100%|██████████| 1228/1228 [03:26<00:00,  5.96it/s]\n",
      "Epoch 63/100 - Validation: 100%|██████████| 258/258 [01:03<00:00,  4.09it/s]\n"
     ]
    },
    {
     "name": "stdout",
     "output_type": "stream",
     "text": [
      "Epoch [63/100]\n",
      "  Train Loss: 0.0537, Train Acc: 0.9838\n",
      "  Val   Loss: 0.0491, Val   Acc: 0.9861\n"
     ]
    },
    {
     "name": "stderr",
     "output_type": "stream",
     "text": [
      "Epoch 64/100 - Training: 100%|██████████| 1228/1228 [03:29<00:00,  5.87it/s]\n",
      "Epoch 64/100 - Validation: 100%|██████████| 258/258 [01:02<00:00,  4.12it/s]\n"
     ]
    },
    {
     "name": "stdout",
     "output_type": "stream",
     "text": [
      "Epoch [64/100]\n",
      "  Train Loss: 0.0542, Train Acc: 0.9842\n",
      "  Val   Loss: 0.0496, Val   Acc: 0.9859\n"
     ]
    },
    {
     "name": "stderr",
     "output_type": "stream",
     "text": [
      "Epoch 65/100 - Training: 100%|██████████| 1228/1228 [03:24<00:00,  6.01it/s]\n",
      "Epoch 65/100 - Validation: 100%|██████████| 258/258 [01:02<00:00,  4.11it/s]\n"
     ]
    },
    {
     "name": "stdout",
     "output_type": "stream",
     "text": [
      "Epoch [65/100]\n",
      "  Train Loss: 0.0534, Train Acc: 0.9839\n",
      "  Val   Loss: 0.0518, Val   Acc: 0.9852\n"
     ]
    },
    {
     "name": "stderr",
     "output_type": "stream",
     "text": [
      "Epoch 66/100 - Training: 100%|██████████| 1228/1228 [03:27<00:00,  5.90it/s]\n",
      "Epoch 66/100 - Validation: 100%|██████████| 258/258 [01:02<00:00,  4.15it/s]\n"
     ]
    },
    {
     "name": "stdout",
     "output_type": "stream",
     "text": [
      "Epoch [66/100]\n",
      "  Train Loss: 0.0539, Train Acc: 0.9836\n",
      "  Val   Loss: 0.0530, Val   Acc: 0.9847\n"
     ]
    },
    {
     "name": "stderr",
     "output_type": "stream",
     "text": [
      "Epoch 67/100 - Training: 100%|██████████| 1228/1228 [03:30<00:00,  5.85it/s]\n",
      "Epoch 67/100 - Validation: 100%|██████████| 258/258 [01:02<00:00,  4.13it/s]\n"
     ]
    },
    {
     "name": "stdout",
     "output_type": "stream",
     "text": [
      "Epoch [67/100]\n",
      "  Train Loss: 0.0539, Train Acc: 0.9843\n",
      "  Val   Loss: 0.0521, Val   Acc: 0.9842\n"
     ]
    },
    {
     "name": "stderr",
     "output_type": "stream",
     "text": [
      "Epoch 68/100 - Training: 100%|██████████| 1228/1228 [03:30<00:00,  5.83it/s]\n",
      "Epoch 68/100 - Validation: 100%|██████████| 258/258 [01:02<00:00,  4.12it/s]\n"
     ]
    },
    {
     "name": "stdout",
     "output_type": "stream",
     "text": [
      "Epoch [68/100]\n",
      "  Train Loss: 0.0552, Train Acc: 0.9836\n",
      "  Val   Loss: 0.0522, Val   Acc: 0.9856\n"
     ]
    },
    {
     "name": "stderr",
     "output_type": "stream",
     "text": [
      "Epoch 69/100 - Training: 100%|██████████| 1228/1228 [03:25<00:00,  5.97it/s]\n",
      "Epoch 69/100 - Validation: 100%|██████████| 258/258 [01:03<00:00,  4.07it/s]\n"
     ]
    },
    {
     "name": "stdout",
     "output_type": "stream",
     "text": [
      "Epoch [69/100]\n",
      "  Train Loss: 0.0555, Train Acc: 0.9834\n",
      "  Val   Loss: 0.0521, Val   Acc: 0.9842\n"
     ]
    },
    {
     "name": "stderr",
     "output_type": "stream",
     "text": [
      "Epoch 70/100 - Training: 100%|██████████| 1228/1228 [03:28<00:00,  5.88it/s]\n",
      "Epoch 70/100 - Validation: 100%|██████████| 258/258 [01:02<00:00,  4.10it/s]\n"
     ]
    },
    {
     "name": "stdout",
     "output_type": "stream",
     "text": [
      "Epoch [70/100]\n",
      "  Train Loss: 0.0543, Train Acc: 0.9836\n",
      "  Val   Loss: 0.0581, Val   Acc: 0.9814\n"
     ]
    },
    {
     "name": "stderr",
     "output_type": "stream",
     "text": [
      "Epoch 71/100 - Training: 100%|██████████| 1228/1228 [03:29<00:00,  5.87it/s]\n",
      "Epoch 71/100 - Validation: 100%|██████████| 258/258 [01:02<00:00,  4.13it/s]\n"
     ]
    },
    {
     "name": "stdout",
     "output_type": "stream",
     "text": [
      "Epoch [71/100]\n",
      "  Train Loss: 0.0532, Train Acc: 0.9845\n",
      "  Val   Loss: 0.0509, Val   Acc: 0.9847\n"
     ]
    },
    {
     "name": "stderr",
     "output_type": "stream",
     "text": [
      "Epoch 72/100 - Training: 100%|██████████| 1228/1228 [03:25<00:00,  5.97it/s]\n",
      "Epoch 72/100 - Validation: 100%|██████████| 258/258 [01:02<00:00,  4.11it/s]\n"
     ]
    },
    {
     "name": "stdout",
     "output_type": "stream",
     "text": [
      "Epoch [72/100]\n",
      "  Train Loss: 0.0537, Train Acc: 0.9842\n",
      "  Val   Loss: 0.0509, Val   Acc: 0.9856\n"
     ]
    },
    {
     "name": "stderr",
     "output_type": "stream",
     "text": [
      "Epoch 73/100 - Training: 100%|██████████| 1228/1228 [03:23<00:00,  6.02it/s]\n",
      "Epoch 73/100 - Validation: 100%|██████████| 258/258 [01:07<00:00,  3.84it/s]\n"
     ]
    },
    {
     "name": "stdout",
     "output_type": "stream",
     "text": [
      "Epoch [73/100]\n",
      "  Train Loss: 0.0544, Train Acc: 0.9835\n",
      "  Val   Loss: 0.0492, Val   Acc: 0.9855\n"
     ]
    },
    {
     "name": "stderr",
     "output_type": "stream",
     "text": [
      "Epoch 74/100 - Training: 100%|██████████| 1228/1228 [03:27<00:00,  5.93it/s]\n",
      "Epoch 74/100 - Validation: 100%|██████████| 258/258 [01:02<00:00,  4.13it/s]\n"
     ]
    },
    {
     "name": "stdout",
     "output_type": "stream",
     "text": [
      "Epoch [74/100]\n",
      "  Train Loss: 0.0544, Train Acc: 0.9839\n",
      "  Val   Loss: 0.0486, Val   Acc: 0.9865\n"
     ]
    },
    {
     "name": "stderr",
     "output_type": "stream",
     "text": [
      "Epoch 75/100 - Training: 100%|██████████| 1228/1228 [03:26<00:00,  5.94it/s]\n",
      "Epoch 75/100 - Validation: 100%|██████████| 258/258 [01:02<00:00,  4.14it/s]\n"
     ]
    },
    {
     "name": "stdout",
     "output_type": "stream",
     "text": [
      "Epoch [75/100]\n",
      "  Train Loss: 0.0533, Train Acc: 0.9840\n",
      "  Val   Loss: 0.0552, Val   Acc: 0.9822\n"
     ]
    },
    {
     "name": "stderr",
     "output_type": "stream",
     "text": [
      "Epoch 76/100 - Training: 100%|██████████| 1228/1228 [04:03<00:00,  5.05it/s]\n",
      "Epoch 76/100 - Validation: 100%|██████████| 258/258 [01:01<00:00,  4.16it/s]\n"
     ]
    },
    {
     "name": "stdout",
     "output_type": "stream",
     "text": [
      "Epoch [76/100]\n",
      "  Train Loss: 0.0542, Train Acc: 0.9841\n",
      "  Val   Loss: 0.0528, Val   Acc: 0.9837\n"
     ]
    },
    {
     "name": "stderr",
     "output_type": "stream",
     "text": [
      "Epoch 77/100 - Training: 100%|██████████| 1228/1228 [03:27<00:00,  5.90it/s]\n",
      "Epoch 77/100 - Validation: 100%|██████████| 258/258 [01:02<00:00,  4.13it/s]\n"
     ]
    },
    {
     "name": "stdout",
     "output_type": "stream",
     "text": [
      "Epoch [77/100]\n",
      "  Train Loss: 0.0557, Train Acc: 0.9832\n",
      "  Val   Loss: 0.0490, Val   Acc: 0.9857\n"
     ]
    },
    {
     "name": "stderr",
     "output_type": "stream",
     "text": [
      "Epoch 78/100 - Training: 100%|██████████| 1228/1228 [03:34<00:00,  5.72it/s]\n",
      "Epoch 78/100 - Validation: 100%|██████████| 258/258 [01:11<00:00,  3.62it/s]\n"
     ]
    },
    {
     "name": "stdout",
     "output_type": "stream",
     "text": [
      "Epoch [78/100]\n",
      "  Train Loss: 0.0539, Train Acc: 0.9839\n",
      "  Val   Loss: 0.0565, Val   Acc: 0.9841\n"
     ]
    },
    {
     "name": "stderr",
     "output_type": "stream",
     "text": [
      "Epoch 79/100 - Training: 100%|██████████| 1228/1228 [03:26<00:00,  5.93it/s]\n",
      "Epoch 79/100 - Validation: 100%|██████████| 258/258 [01:01<00:00,  4.19it/s]\n"
     ]
    },
    {
     "name": "stdout",
     "output_type": "stream",
     "text": [
      "Epoch [79/100]\n",
      "  Train Loss: 0.0537, Train Acc: 0.9841\n",
      "  Val   Loss: 0.0493, Val   Acc: 0.9854\n"
     ]
    },
    {
     "name": "stderr",
     "output_type": "stream",
     "text": [
      "Epoch 80/100 - Training: 100%|██████████| 1228/1228 [03:25<00:00,  5.96it/s]\n",
      "Epoch 80/100 - Validation: 100%|██████████| 258/258 [01:03<00:00,  4.09it/s]\n"
     ]
    },
    {
     "name": "stdout",
     "output_type": "stream",
     "text": [
      "Epoch [80/100]\n",
      "  Train Loss: 0.0547, Train Acc: 0.9836\n",
      "  Val   Loss: 0.0494, Val   Acc: 0.9854\n"
     ]
    },
    {
     "name": "stderr",
     "output_type": "stream",
     "text": [
      "Epoch 81/100 - Training: 100%|██████████| 1228/1228 [03:30<00:00,  5.85it/s]\n",
      "Epoch 81/100 - Validation: 100%|██████████| 258/258 [01:03<00:00,  4.07it/s]\n"
     ]
    },
    {
     "name": "stdout",
     "output_type": "stream",
     "text": [
      "Epoch [81/100]\n",
      "  Train Loss: 0.0535, Train Acc: 0.9838\n",
      "  Val   Loss: 0.0511, Val   Acc: 0.9851\n"
     ]
    },
    {
     "name": "stderr",
     "output_type": "stream",
     "text": [
      "Epoch 82/100 - Training: 100%|██████████| 1228/1228 [03:31<00:00,  5.81it/s]\n",
      "Epoch 82/100 - Validation: 100%|██████████| 258/258 [01:03<00:00,  4.08it/s]\n"
     ]
    },
    {
     "name": "stdout",
     "output_type": "stream",
     "text": [
      "Epoch [82/100]\n",
      "  Train Loss: 0.0535, Train Acc: 0.9840\n",
      "  Val   Loss: 0.0489, Val   Acc: 0.9866\n"
     ]
    },
    {
     "name": "stderr",
     "output_type": "stream",
     "text": [
      "Epoch 83/100 - Training: 100%|██████████| 1228/1228 [03:27<00:00,  5.93it/s]\n",
      "Epoch 83/100 - Validation: 100%|██████████| 258/258 [01:02<00:00,  4.12it/s]\n"
     ]
    },
    {
     "name": "stdout",
     "output_type": "stream",
     "text": [
      "Epoch [83/100]\n",
      "  Train Loss: 0.0524, Train Acc: 0.9848\n",
      "  Val   Loss: 0.0497, Val   Acc: 0.9854\n"
     ]
    },
    {
     "name": "stderr",
     "output_type": "stream",
     "text": [
      "Epoch 84/100 - Training: 100%|██████████| 1228/1228 [03:23<00:00,  6.03it/s]\n",
      "Epoch 84/100 - Validation: 100%|██████████| 258/258 [01:02<00:00,  4.13it/s]\n"
     ]
    },
    {
     "name": "stdout",
     "output_type": "stream",
     "text": [
      "Epoch [84/100]\n",
      "  Train Loss: 0.0541, Train Acc: 0.9843\n",
      "  Val   Loss: 0.0502, Val   Acc: 0.9855\n"
     ]
    },
    {
     "name": "stderr",
     "output_type": "stream",
     "text": [
      "Epoch 85/100 - Training: 100%|██████████| 1228/1228 [04:03<00:00,  5.04it/s]\n",
      "Epoch 85/100 - Validation: 100%|██████████| 258/258 [01:03<00:00,  4.09it/s]\n"
     ]
    },
    {
     "name": "stdout",
     "output_type": "stream",
     "text": [
      "Epoch [85/100]\n",
      "  Train Loss: 0.0535, Train Acc: 0.9840\n",
      "  Val   Loss: 0.0488, Val   Acc: 0.9860\n"
     ]
    },
    {
     "name": "stderr",
     "output_type": "stream",
     "text": [
      "Epoch 86/100 - Training: 100%|██████████| 1228/1228 [03:25<00:00,  5.98it/s]\n",
      "Epoch 86/100 - Validation: 100%|██████████| 258/258 [01:02<00:00,  4.13it/s]\n"
     ]
    },
    {
     "name": "stdout",
     "output_type": "stream",
     "text": [
      "Epoch [86/100]\n",
      "  Train Loss: 0.0536, Train Acc: 0.9840\n",
      "  Val   Loss: 0.0535, Val   Acc: 0.9850\n"
     ]
    },
    {
     "name": "stderr",
     "output_type": "stream",
     "text": [
      "Epoch 87/100 - Training: 100%|██████████| 1228/1228 [03:23<00:00,  6.02it/s]\n",
      "Epoch 87/100 - Validation: 100%|██████████| 258/258 [01:02<00:00,  4.12it/s]\n"
     ]
    },
    {
     "name": "stdout",
     "output_type": "stream",
     "text": [
      "Epoch [87/100]\n",
      "  Train Loss: 0.0532, Train Acc: 0.9845\n",
      "  Val   Loss: 0.0542, Val   Acc: 0.9847\n"
     ]
    },
    {
     "name": "stderr",
     "output_type": "stream",
     "text": [
      "Epoch 88/100 - Training: 100%|██████████| 1228/1228 [03:23<00:00,  6.04it/s]\n",
      "Epoch 88/100 - Validation: 100%|██████████| 258/258 [01:03<00:00,  4.07it/s]\n"
     ]
    },
    {
     "name": "stdout",
     "output_type": "stream",
     "text": [
      "Epoch [88/100]\n",
      "  Train Loss: 0.0545, Train Acc: 0.9837\n",
      "  Val   Loss: 0.0489, Val   Acc: 0.9856\n"
     ]
    },
    {
     "name": "stderr",
     "output_type": "stream",
     "text": [
      "Epoch 89/100 - Training: 100%|██████████| 1228/1228 [03:41<00:00,  5.54it/s]\n",
      "Epoch 89/100 - Validation: 100%|██████████| 258/258 [01:03<00:00,  4.04it/s]\n"
     ]
    },
    {
     "name": "stdout",
     "output_type": "stream",
     "text": [
      "Epoch [89/100]\n",
      "  Train Loss: 0.0524, Train Acc: 0.9844\n",
      "  Val   Loss: 0.0519, Val   Acc: 0.9857\n"
     ]
    },
    {
     "name": "stderr",
     "output_type": "stream",
     "text": [
      "Epoch 90/100 - Training: 100%|██████████| 1228/1228 [03:46<00:00,  5.42it/s]\n",
      "Epoch 90/100 - Validation: 100%|██████████| 258/258 [01:02<00:00,  4.10it/s]\n"
     ]
    },
    {
     "name": "stdout",
     "output_type": "stream",
     "text": [
      "Epoch [90/100]\n",
      "  Train Loss: 0.0556, Train Acc: 0.9832\n",
      "  Val   Loss: 0.0503, Val   Acc: 0.9861\n"
     ]
    },
    {
     "name": "stderr",
     "output_type": "stream",
     "text": [
      "Epoch 91/100 - Training: 100%|██████████| 1228/1228 [03:31<00:00,  5.80it/s]\n",
      "Epoch 91/100 - Validation: 100%|██████████| 258/258 [01:02<00:00,  4.11it/s]\n"
     ]
    },
    {
     "name": "stdout",
     "output_type": "stream",
     "text": [
      "Epoch [91/100]\n",
      "  Train Loss: 0.0539, Train Acc: 0.9837\n",
      "  Val   Loss: 0.0496, Val   Acc: 0.9853\n"
     ]
    },
    {
     "name": "stderr",
     "output_type": "stream",
     "text": [
      "Epoch 92/100 - Training: 100%|██████████| 1228/1228 [03:28<00:00,  5.90it/s]\n",
      "Epoch 92/100 - Validation: 100%|██████████| 258/258 [01:02<00:00,  4.10it/s]\n"
     ]
    },
    {
     "name": "stdout",
     "output_type": "stream",
     "text": [
      "Epoch [92/100]\n",
      "  Train Loss: 0.0541, Train Acc: 0.9838\n",
      "  Val   Loss: 0.0601, Val   Acc: 0.9830\n"
     ]
    },
    {
     "name": "stderr",
     "output_type": "stream",
     "text": [
      "Epoch 93/100 - Training: 100%|██████████| 1228/1228 [04:04<00:00,  5.03it/s]\n",
      "Epoch 93/100 - Validation: 100%|██████████| 258/258 [01:02<00:00,  4.11it/s]\n"
     ]
    },
    {
     "name": "stdout",
     "output_type": "stream",
     "text": [
      "Epoch [93/100]\n",
      "  Train Loss: 0.0530, Train Acc: 0.9843\n",
      "  Val   Loss: 0.0487, Val   Acc: 0.9858\n"
     ]
    },
    {
     "name": "stderr",
     "output_type": "stream",
     "text": [
      "Epoch 94/100 - Training: 100%|██████████| 1228/1228 [04:24<00:00,  4.64it/s]\n",
      "Epoch 94/100 - Validation: 100%|██████████| 258/258 [01:03<00:00,  4.03it/s]\n"
     ]
    },
    {
     "name": "stdout",
     "output_type": "stream",
     "text": [
      "Epoch [94/100]\n",
      "  Train Loss: 0.0544, Train Acc: 0.9837\n",
      "  Val   Loss: 0.0500, Val   Acc: 0.9851\n"
     ]
    },
    {
     "name": "stderr",
     "output_type": "stream",
     "text": [
      "Epoch 95/100 - Training: 100%|██████████| 1228/1228 [03:30<00:00,  5.83it/s]\n",
      "Epoch 95/100 - Validation: 100%|██████████| 258/258 [01:02<00:00,  4.10it/s]\n"
     ]
    },
    {
     "name": "stdout",
     "output_type": "stream",
     "text": [
      "Epoch [95/100]\n",
      "  Train Loss: 0.0549, Train Acc: 0.9835\n",
      "  Val   Loss: 0.0513, Val   Acc: 0.9853\n"
     ]
    },
    {
     "name": "stderr",
     "output_type": "stream",
     "text": [
      "Epoch 96/100 - Training: 100%|██████████| 1228/1228 [03:28<00:00,  5.90it/s]\n",
      "Epoch 96/100 - Validation: 100%|██████████| 258/258 [01:02<00:00,  4.11it/s]\n"
     ]
    },
    {
     "name": "stdout",
     "output_type": "stream",
     "text": [
      "Epoch [96/100]\n",
      "  Train Loss: 0.0536, Train Acc: 0.9838\n",
      "  Val   Loss: 0.0513, Val   Acc: 0.9843\n"
     ]
    },
    {
     "name": "stderr",
     "output_type": "stream",
     "text": [
      "Epoch 97/100 - Training: 100%|██████████| 1228/1228 [03:24<00:00,  5.99it/s]\n",
      "Epoch 97/100 - Validation: 100%|██████████| 258/258 [01:02<00:00,  4.15it/s]\n"
     ]
    },
    {
     "name": "stdout",
     "output_type": "stream",
     "text": [
      "Epoch [97/100]\n",
      "  Train Loss: 0.0541, Train Acc: 0.9836\n",
      "  Val   Loss: 0.0544, Val   Acc: 0.9836\n"
     ]
    },
    {
     "name": "stderr",
     "output_type": "stream",
     "text": [
      "Epoch 98/100 - Training: 100%|██████████| 1228/1228 [03:28<00:00,  5.90it/s]\n",
      "Epoch 98/100 - Validation: 100%|██████████| 258/258 [01:02<00:00,  4.13it/s]\n"
     ]
    },
    {
     "name": "stdout",
     "output_type": "stream",
     "text": [
      "Epoch [98/100]\n",
      "  Train Loss: 0.0541, Train Acc: 0.9842\n",
      "  Val   Loss: 0.0492, Val   Acc: 0.9859\n"
     ]
    },
    {
     "name": "stderr",
     "output_type": "stream",
     "text": [
      "Epoch 99/100 - Training: 100%|██████████| 1228/1228 [03:29<00:00,  5.87it/s]\n",
      "Epoch 99/100 - Validation: 100%|██████████| 258/258 [01:02<00:00,  4.15it/s]\n"
     ]
    },
    {
     "name": "stdout",
     "output_type": "stream",
     "text": [
      "Epoch [99/100]\n",
      "  Train Loss: 0.0562, Train Acc: 0.9832\n",
      "  Val   Loss: 0.0502, Val   Acc: 0.9850\n"
     ]
    },
    {
     "name": "stderr",
     "output_type": "stream",
     "text": [
      "Epoch 100/100 - Training: 100%|██████████| 1228/1228 [03:27<00:00,  5.93it/s]\n",
      "Epoch 100/100 - Validation: 100%|██████████| 258/258 [01:02<00:00,  4.11it/s]"
     ]
    },
    {
     "name": "stdout",
     "output_type": "stream",
     "text": [
      "Epoch [100/100]\n",
      "  Train Loss: 0.0551, Train Acc: 0.9832\n",
      "  Val   Loss: 0.0496, Val   Acc: 0.9861\n"
     ]
    },
    {
     "name": "stderr",
     "output_type": "stream",
     "text": [
      "\n"
     ]
    }
   ],
   "source": [
    "train_losses, train_accuracies, val_losses, val_accuracies = train(model, train_dataloader, val_dataloader, criterion, optimizer, device,EPOCHS)"
   ]
  },
  {
   "cell_type": "code",
   "execution_count": 12,
   "id": "ba55f2f4",
   "metadata": {},
   "outputs": [
    {
     "data": {
      "image/png": "[encoded data removed]",
      "text/plain": [
       "<Figure size 1200x500 with 2 Axes>"
      ]
     },
     "metadata": {},
     "output_type": "display_data"
    },
    {
     "data": {
      "image/png": "[encoded data removed]",
      "text/plain": [
       "<Figure size 600x400 with 1 Axes>"
      ]
     },
     "metadata": {},
     "output_type": "display_data"
    },
    {
     "data": {
      "image/png": "[encoded data removed]",
      "text/plain": [
       "<Figure size 600x400 with 1 Axes>"
      ]
     },
     "metadata": {},
     "output_type": "display_data"
    },
    {
     "data": {
      "image/png": "[encoded data removed]",
      "text/plain": [
       "<Figure size 600x400 with 1 Axes>"
      ]
     },
     "metadata": {},
     "output_type": "display_data"
    },
    {
     "data": {
      "image/png": "[encoded data removed]",
      "text/plain": [
       "<Figure size 600x400 with 1 Axes>"
      ]
     },
     "metadata": {},
     "output_type": "display_data"
    }
   ],
   "source": [
    "plot_results(EPOCHS, train_losses, train_accuracies, val_losses, val_accuracies)"
   ]
  },
  {
   "cell_type": "code",
   "execution_count": 13,
   "id": "d712beba",
   "metadata": {},
   "outputs": [
    {
     "name": "stderr",
     "output_type": "stream",
     "text": [
      "Evaluating: 100%|██████████| 267/267 [01:12<00:00,  3.71it/s]"
     ]
    },
    {
     "name": "stdout",
     "output_type": "stream",
     "text": [
      "Precision: 0.9838\n",
      "Recall:    0.9901\n",
      "F1 Score:  0.9869\n",
      "AUC:       0.9968\n"
     ]
    },
    {
     "name": "stderr",
     "output_type": "stream",
     "text": [
      "\n"
     ]
    },
    {
     "data": {
      "image/png": "[encoded data removed]",
      "text/plain": [
       "<Figure size 600x600 with 1 Axes>"
      ]
     },
     "metadata": {},
     "output_type": "display_data"
    },
    {
     "data": {
      "image/png": "[encoded data removed]",
      "text/plain": [
       "<Figure size 500x400 with 1 Axes>"
      ]
     },
     "metadata": {},
     "output_type": "display_data"
    }
   ],
   "source": [
    "eval_on_metrics(model, test_dataloader)"
   ]
  }
 ],
 "metadata": {
  "kernelspec": {
   "display_name": ".venv",
   "language": "python",
   "name": "python3"
  },
  "language_info": {
   "codemirror_mode": {
    "name": "ipython",
    "version": 3
   },
   "file_extension": ".py",
   "mimetype": "text/x-python",
   "name": "python",
   "nbconvert_exporter": "python",
   "pygments_lexer": "ipython3",
   "version": "3.12.6"
  }
 },
 "nbformat": 4,
 "nbformat_minor": 5
}
