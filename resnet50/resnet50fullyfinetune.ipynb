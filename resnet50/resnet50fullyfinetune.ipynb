{
 "cells": [
  {
   "cell_type": "code",
   "execution_count": null,
   "id": "850188c9",
   "metadata": {},
   "outputs": [],
   "source": [
    "import torch\n",
    "from torch.utils.data import DataLoader\n",
    "from torch import nn\n",
    "import torch.optim as optim\n",
    "import torchvision.models as models\n",
    "\n",
    "import sys\n",
    "import os\n",
    "sys.path.append(os.path.abspath(os.path.join(os.getcwd(), '..', 'functions')))\n",
    "from dataset import ChestXrayDataset\n",
    "from train import train\n",
    "from evaluation import plot_results ,eval_on_metrics\n",
    "from gradcam import get_heatmap_for_resnet"
   ]
  },
  {
   "cell_type": "code",
   "execution_count": null,
   "id": "e2887e98",
   "metadata": {},
   "outputs": [],
   "source": [
    "IMAGE_PATH = \"../archive/\"\n",
    "import glob\n",
    "\n",
    "# Tüm alt klasörlerdeki jpg ve png dosyalarını alalım\n",
    "image_paths = glob.glob(IMAGE_PATH + \"**/images/*.[jp][pn]g\", recursive=True)\n",
    "\n",
    "print(f\"Toplam {len(image_paths)} resim bulundu.\")"
   ]
  },
  {
   "cell_type": "code",
   "execution_count": null,
   "id": "a3bf6ab8",
   "metadata": {},
   "outputs": [],
   "source": [
    "TRAIN_PATH = '../data/AP_PA_Train.xlsx'\n",
    "TEST_PATH = '../data/AP_PA_Test.xlsx'\n",
    "VAL_PATH = '../data/AP_PA_Validation.xlsx'"
   ]
  },
  {
   "cell_type": "code",
   "execution_count": null,
   "id": "28ba46c0",
   "metadata": {},
   "outputs": [],
   "source": [
    "num_classes = 2\n",
    "EPOCHS = 30"
   ]
  },
  {
   "cell_type": "code",
   "execution_count": null,
   "id": "ec663685",
   "metadata": {},
   "outputs": [],
   "source": [
    "model = models.resnet50(pretrained=True)\n",
    "\n",
    "for param in model.parameters():\n",
    "    param.requires_grad = True\n",
    "\n",
    "in_features = model.fc.in_features\n",
    "model.fc = nn.Linear(in_features, num_classes)\n",
    "\n",
    "for param in model.fc.parameters():\n",
    "    param.requires_grad = True"
   ]
  },
  {
   "cell_type": "code",
   "execution_count": null,
   "id": "8dfbe7c6",
   "metadata": {},
   "outputs": [],
   "source": [
    "device = torch.device(\"cuda\" if torch.cuda.is_available() else \"cpu\")\n",
    "criterion = nn.CrossEntropyLoss()\n",
    "optimizer = optim.Adam(model.parameters(), lr=0.001)\n",
    "print(device)"
   ]
  },
  {
   "cell_type": "code",
   "execution_count": null,
   "id": "414a30e6",
   "metadata": {},
   "outputs": [],
   "source": [
    "from torchvision import transforms\n",
    "\n",
    "transform = transforms.Compose([\n",
    "    transforms.Resize((224, 224)),\n",
    "    transforms.ToTensor(),\n",
    "    transforms.Normalize(mean=[0.485, 0.456, 0.406],\n",
    "                         std=[0.229, 0.224, 0.225])\n",
    "])\n"
   ]
  },
  {
   "cell_type": "code",
   "execution_count": null,
   "id": "0b556a81",
   "metadata": {},
   "outputs": [],
   "source": [
    "train_dataset = ChestXrayDataset(TRAIN_PATH, image_paths,transform=transform)\n",
    "val_dataset = ChestXrayDataset(TEST_PATH,image_paths, transform=transform)\n",
    "test_dataset = ChestXrayDataset(VAL_PATH,image_paths, transform=transform)"
   ]
  },
  {
   "cell_type": "code",
   "execution_count": null,
   "id": "b0a67572",
   "metadata": {},
   "outputs": [],
   "source": [
    "print(\"Train size : \",len(train_dataset))\n",
    "print(\"Validation size : \",len(val_dataset))\n",
    "print(\"Test size : \",len(test_dataset))"
   ]
  },
  {
   "cell_type": "code",
   "execution_count": null,
   "id": "578f22c2",
   "metadata": {},
   "outputs": [],
   "source": [
    "train_dataloader = DataLoader(train_dataset, batch_size=32, shuffle=True,num_workers=20)\n",
    "val_dataloader = DataLoader(val_dataset, batch_size=32, shuffle=True,num_workers=20)\n",
    "test_dataloader = DataLoader(test_dataset, batch_size=32, shuffle=True,num_workers=20)"
   ]
  },
  {
   "cell_type": "code",
   "execution_count": null,
   "id": "97969119",
   "metadata": {},
   "outputs": [],
   "source": [
    "train_losses, train_accuracies, val_losses, val_accuracies = train(model, train_dataloader, val_dataloader, criterion, optimizer, device,num_epochs=EPOCHS,patience=5)"
   ]
  },
  {
   "cell_type": "code",
   "execution_count": null,
   "id": "c3fad6bc",
   "metadata": {},
   "outputs": [],
   "source": [
    "print(f\"num_epochs: {EPOCHS}\")\n",
    "print(f\"train_losses: {len(train_losses)}\")\n",
    "print(f\"val_losses: {len(val_losses)}\")\n",
    "print(f\"train_accuracies: {len(train_accuracies)}\")\n",
    "print(f\"val_accuracies: {len(val_accuracies)}\")\n"
   ]
  },
  {
   "cell_type": "code",
   "execution_count": null,
   "id": "f853c486",
   "metadata": {},
   "outputs": [],
   "source": [
    "plot_results(train_losses, train_accuracies, val_losses, val_accuracies)"
   ]
  },
  {
   "cell_type": "code",
   "execution_count": null,
   "id": "d712beba",
   "metadata": {},
   "outputs": [],
   "source": [
    "eval_on_metrics(model, test_dataloader)"
   ]
  },
  {
   "cell_type": "code",
   "execution_count": null,
   "id": "8c5e0e78",
   "metadata": {},
   "outputs": [],
   "source": [
    "test_dataset[0]"
   ]
  },
  {
   "cell_type": "code",
   "execution_count": null,
   "id": "4ee6f5b3",
   "metadata": {},
   "outputs": [],
   "source": [
    "model = models.resnet50(pretrained=True) \n",
    "\n",
    "# Son katmanı 2 sınıflı yap\n",
    "model.fc = nn.Linear(model.fc.in_features, 2)\n",
    "\n",
    "checkpoint_path = 'models/best_model.pth'\n",
    "state_dict = torch.load(checkpoint_path)\n",
    "\n",
    "# 3. state_dict'i modele yükle\n",
    "model.load_state_dict(state_dict)\n",
    "\n",
    "# 4. Modele eval modunu ver (inference için)\n",
    "model.eval()"
   ]
  },
  {
   "cell_type": "code",
   "execution_count": null,
   "id": "033d9604",
   "metadata": {},
   "outputs": [],
   "source": [
    "test_image_path = test_dataset.get_path(0)"
   ]
  },
  {
   "cell_type": "code",
   "execution_count": null,
   "id": "3462503f",
   "metadata": {},
   "outputs": [],
   "source": [
    "get_heatmap_for_resnet(model,test_image_path)"
   ]
  },
  {
   "cell_type": "code",
   "execution_count": null,
   "id": "c2df42fa",
   "metadata": {},
   "outputs": [],
   "source": []
  }
 ],
 "metadata": {
  "kernelspec": {
   "display_name": ".venv",
   "language": "python",
   "name": "python3"
  },
  "language_info": {
   "codemirror_mode": {
    "name": "ipython",
    "version": 3
   },
   "file_extension": ".py",
   "mimetype": "text/x-python",
   "name": "python",
   "nbconvert_exporter": "python",
   "pygments_lexer": "ipython3",
   "version": "3.13.5"
  }
 },
 "nbformat": 4,
 "nbformat_minor": 5
}
