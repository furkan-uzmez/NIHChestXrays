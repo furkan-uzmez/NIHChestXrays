{
 "cells": [
  {
   "cell_type": "code",
   "execution_count": null,
   "id": "4edaa98d",
   "metadata": {},
   "outputs": [],
   "source": [
    "import torch\n",
    "from torch.utils.data import DataLoader\n",
    "from torch import nn\n",
    "import torch.optim as optim\n",
    "\n",
    "import sys\n",
    "import os\n",
    "sys.path.append(os.path.abspath(os.path.join(os.getcwd(), '..', 'functions')))\n",
    "from dataset import ChestXrayDataset\n",
    "from train import train\n",
    "from evaluation import plot_results ,eval_on_metrics\n",
    "import timm"
   ]
  },
  {
   "cell_type": "code",
   "execution_count": null,
   "id": "db5b2427",
   "metadata": {},
   "outputs": [],
   "source": [
    "IMAGE_PATH = \"../archive/\"\n",
    "import glob\n",
    "\n",
    "# Tüm alt klasörlerdeki jpg ve png dosyalarını alalım\n",
    "image_paths = glob.glob(IMAGE_PATH + \"**/images/*.[jp][pn]g\", recursive=True)\n",
    "\n",
    "print(f\"Toplam {len(image_paths)} resim bulundu.\")"
   ]
  },
  {
   "cell_type": "code",
   "execution_count": null,
   "id": "294b2c74",
   "metadata": {},
   "outputs": [],
   "source": [
    "TRAIN_PATH = '../data/AP_PA_Train.xlsx'\n",
    "TEST_PATH = '../data/AP_PA_Test.xlsx'\n",
    "VAL_PATH = '../data/AP_PA_Validation.xlsx'"
   ]
  },
  {
   "cell_type": "code",
   "execution_count": null,
   "id": "91107490",
   "metadata": {},
   "outputs": [],
   "source": [
    "num_classes = 2\n",
    "EPOCHS = 30"
   ]
  },
  {
   "cell_type": "code",
   "execution_count": null,
   "id": "8cb36fc0",
   "metadata": {},
   "outputs": [],
   "source": [
    "model = timm.create_model('seresnext50_32x4d', pretrained=True)\n",
    "\n",
    "model.reset_classifier(num_classes)"
   ]
  },
  {
   "cell_type": "code",
   "execution_count": null,
   "id": "86efe32a",
   "metadata": {},
   "outputs": [],
   "source": [
    "device = torch.device(\"cuda\" if torch.cuda.is_available() else \"cpu\")\n",
    "criterion = nn.CrossEntropyLoss()\n",
    "optimizer = optim.Adam(model.parameters(), lr=0.001)\n",
    "print(device)"
   ]
  },
  {
   "cell_type": "code",
   "execution_count": null,
   "id": "034118cb",
   "metadata": {},
   "outputs": [],
   "source": [
    "from torchvision import transforms\n",
    "\n",
    "transform = transforms.Compose([\n",
    "    transforms.Resize((224, 224)),\n",
    "    transforms.ToTensor(),\n",
    "    transforms.Normalize(mean=[0.485, 0.456, 0.406],\n",
    "                         std=[0.229, 0.224, 0.225])\n",
    "])\n"
   ]
  },
  {
   "cell_type": "code",
   "execution_count": null,
   "id": "1780a66f",
   "metadata": {},
   "outputs": [],
   "source": [
    "train_dataset = ChestXrayDataset(TRAIN_PATH, image_paths,transform=transform)\n",
    "val_dataset = ChestXrayDataset(TEST_PATH,image_paths, transform=transform)\n",
    "test_dataset = ChestXrayDataset(VAL_PATH,image_paths, transform=transform)"
   ]
  },
  {
   "cell_type": "code",
   "execution_count": null,
   "id": "4c2ef608",
   "metadata": {},
   "outputs": [],
   "source": [
    "print(\"Train size : \",len(train_dataset))\n",
    "print(\"Validation size : \",len(val_dataset))\n",
    "print(\"Test size : \",len(test_dataset))"
   ]
  },
  {
   "cell_type": "code",
   "execution_count": null,
   "id": "62ae43f2",
   "metadata": {},
   "outputs": [],
   "source": [
    "train_dataloader = DataLoader(train_dataset, batch_size=32, shuffle=True,num_workers=10)\n",
    "val_dataloader = DataLoader(val_dataset, batch_size=32, shuffle=True,num_workers=10)\n",
    "test_dataloader = DataLoader(test_dataset, batch_size=32, shuffle=True,num_workers=10)"
   ]
  },
  {
   "cell_type": "code",
   "execution_count": null,
   "id": "12c8aac5",
   "metadata": {},
   "outputs": [],
   "source": [
    "train_losses, train_accuracies, val_losses, val_accuracies = train(model, train_dataloader, val_dataloader, criterion, optimizer, device,num_epochs=EPOCHS,patience=5,save_path='models/resnet50fullyfinetunebestmodel.pth')"
   ]
  },
  {
   "cell_type": "code",
   "execution_count": null,
   "id": "a77521cc",
   "metadata": {},
   "outputs": [],
   "source": [
    "plot_results(train_losses, train_accuracies, val_losses, val_accuracies)"
   ]
  },
  {
   "cell_type": "code",
   "execution_count": null,
   "id": "78abcaa2",
   "metadata": {},
   "outputs": [],
   "source": [
    "eval_on_metrics(model, test_dataloader)"
   ]
  }
 ],
 "metadata": {
  "kernelspec": {
   "display_name": ".venv",
   "language": "python",
   "name": "python3"
  },
  "language_info": {
   "codemirror_mode": {
    "name": "ipython",
    "version": 3
   },
   "file_extension": ".py",
   "mimetype": "text/x-python",
   "name": "python",
   "nbconvert_exporter": "python",
   "pygments_lexer": "ipython3",
   "version": "3.13.5"
  }
 },
 "nbformat": 4,
 "nbformat_minor": 5
}
