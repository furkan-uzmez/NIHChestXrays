{
 "cells": [
  {
   "cell_type": "code",
   "execution_count": null,
   "id": "850188c9",
   "metadata": {},
   "outputs": [],
   "source": [
    "from train import train\n",
    "from evaluation import plot_results ,eval_on_metrics"
   ]
  },
  {
   "cell_type": "code",
   "execution_count": null,
   "id": "e2887e98",
   "metadata": {},
   "outputs": [],
   "source": [
    "IMAGE_PATH = \"../archive/\"\n",
    "import glob\n",
    "\n",
    "# Tüm alt klasörlerdeki jpg ve png dosyalarını alalım\n",
    "image_paths = glob.glob(PATH + \"**/images/*.[jp][pn]g\", recursive=True)\n",
    "\n",
    "print(f\"Toplam {len(image_paths)} resim bulundu.\")"
   ]
  },
  {
   "cell_type": "code",
   "execution_count": null,
   "id": "a3bf6ab8",
   "metadata": {},
   "outputs": [],
   "source": [
    "TRAIN_PATH = '/data/AP_PA_Train.xlsx'\n",
    "TEST_PATH = '/data/AP_PA_Test.xlsx'\n",
    "VAL_PATH = '/data/AP_PA_Validation.xlsx'"
   ]
  },
  {
   "cell_type": "code",
   "execution_count": null,
   "id": "ec663685",
   "metadata": {},
   "outputs": [],
   "source": [
    "model = models.resnet34(pretrained=True)\n",
    "\n",
    "for param in model.parameters():\n",
    "    param.requires_grad = False\n",
    "\n",
    "in_features = model.fc.in_features\n",
    "model.fc = nn.Linear(in_features, num_classes)\n",
    "\n",
    "for param in model.fc.parameters():\n",
    "    param.requires_grad = True"
   ]
  },
  {
   "cell_type": "code",
   "execution_count": null,
   "id": "8dfbe7c6",
   "metadata": {},
   "outputs": [],
   "source": [
    "EPOCHS = 5\n",
    "device = torch.device(\"cuda\" if torch.cuda.is_available() else \"cpu\")\n",
    "criterion = nn.CrossEntropyLoss()\n",
    "optimizer = optim.Adam(model.parameters(), lr=0.001)"
   ]
  },
  {
   "cell_type": "code",
   "execution_count": null,
   "id": "0b556a81",
   "metadata": {},
   "outputs": [],
   "source": [
    "train_dataset = ChestXrayDataset(TRAIN_PATH, image_paths,transform=transform)\n",
    "val_dataset = ChestXrayDataset(TEST_PATH,image_paths, transform=transform)\n",
    "test_dataset = ChestXrayDataset(VAL_PATH,image_paths, transform=transform)"
   ]
  },
  {
   "cell_type": "code",
   "execution_count": null,
   "id": "578f22c2",
   "metadata": {},
   "outputs": [],
   "source": [
    "train_dataloader = DataLoader(train_dataset, batch_size=64, shuffle=True,num_workers=6)\n",
    "val_dataloader = DataLoader(val_dataset, batch_size=64, shuffle=True,num_workers=6)\n",
    "test_dataloader = DataLoader(test_dataset, batch_size=64, shuffle=True,num_workers=6)"
   ]
  },
  {
   "cell_type": "code",
   "execution_count": null,
   "id": "97969119",
   "metadata": {},
   "outputs": [],
   "source": [
    "train_losses, train_accuracies, val_losses, val_accuracies = train(model, train_loader, val_loader, criterion, optimizer, device,EPOCHS)"
   ]
  },
  {
   "cell_type": "code",
   "execution_count": null,
   "id": "ba55f2f4",
   "metadata": {},
   "outputs": [],
   "source": [
    "plot_results(EPOCHS, train_losses, train_accuracies, val_losses, val_accuracies)"
   ]
  },
  {
   "cell_type": "code",
   "execution_count": null,
   "id": "d712beba",
   "metadata": {},
   "outputs": [],
   "source": [
    "eval_on_metrics(model, test_loader)"
   ]
  }
 ],
 "metadata": {
  "language_info": {
   "name": "python"
  }
 },
 "nbformat": 4,
 "nbformat_minor": 5
}
